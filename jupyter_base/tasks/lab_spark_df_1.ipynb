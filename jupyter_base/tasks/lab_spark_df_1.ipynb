{
 "cells": [
  {
   "cell_type": "markdown",
   "id": "7bb87671",
   "metadata": {},
   "source": [
    "<img src=\"/static/images/hdr.png\" align=\"center\">"
   ]
  },
  {
   "cell_type": "markdown",
   "id": "78838f6f",
   "metadata": {},
   "source": [
    "# SPARK DATAFRAMES: Лабораторная работа 1"
   ]
  },
  {
   "cell_type": "markdown",
   "id": "6297c529",
   "metadata": {},
   "source": [
    "<hr style=\"border:2px solid #460073\"> </hr>\n",
    "\n",
    "<h3 style=\"color: #460073\">Практические материалы</h3>\n",
    "\n",
    "<div style=\"color:#b455aa; text-align: right\"> Версия 1.0 от 10 октября 2021</div>"
   ]
  },
  {
   "cell_type": "code",
   "execution_count": null,
   "id": "fd03e42c",
   "metadata": {},
   "outputs": [],
   "source": [
    "from pyspark.sql import SparkSession"
   ]
  },
  {
   "cell_type": "code",
   "execution_count": null,
   "id": "0baadc76",
   "metadata": {},
   "outputs": [],
   "source": [
    "spark = (\n",
    "    SparkSession\n",
    "    .builder\n",
    "    .master(\"local\")\n",
    "    .appName(\"lab_df\"<логин>)\n",
    "    .getOrCreate()\n",
    ")"
   ]
  },
  {
   "cell_type": "markdown",
   "id": "2ccc054b",
   "metadata": {},
   "source": [
    "## One-liners"
   ]
  },
  {
   "cell_type": "markdown",
   "id": "6939c1b4",
   "metadata": {},
   "source": [
    "Создайте датафрейм (`createDataFrame()`) с данными о летнрих месяцах:\n",
    "\n",
    "    6, summer, June\n",
    "    7, summer, July\n",
    "    8, summer, August\n",
    "\n",
    "Назовите колонки\n",
    "\n",
    "* month_no\n",
    "* season\n",
    "* month_name"
   ]
  },
  {
   "cell_type": "code",
   "execution_count": null,
   "id": "6d2e0b09",
   "metadata": {},
   "outputs": [],
   "source": [
    "monthDf = ..."
   ]
  },
  {
   "cell_type": "markdown",
   "id": "e24b1612",
   "metadata": {},
   "source": [
    "Проверьте схему (`printSchema()`)"
   ]
  },
  {
   "cell_type": "code",
   "execution_count": null,
   "id": "cc76d03c",
   "metadata": {},
   "outputs": [],
   "source": []
  },
  {
   "cell_type": "markdown",
   "id": "a018eb5a",
   "metadata": {},
   "source": [
    "Каковы последние 4 цифры телефона 'pete' (скопируйте в лабораторную датафрейм `phoneBookDf` из практических занятий)?"
   ]
  },
  {
   "cell_type": "code",
   "execution_count": null,
   "id": "0d778e66",
   "metadata": {},
   "outputs": [],
   "source": [
    "peteDigits = ..."
   ]
  },
  {
   "cell_type": "markdown",
   "id": "ca26a845",
   "metadata": {},
   "source": [
    "Создайте новый датафрейм, которые содержит только колонки `name` and `phone` датафрейма `phonBookDf`"
   ]
  },
  {
   "cell_type": "code",
   "execution_count": null,
   "id": "cc0ff32e",
   "metadata": {},
   "outputs": [],
   "source": [
    "myDf = ..."
   ]
  },
  {
   "cell_type": "markdown",
   "id": "15ef9078",
   "metadata": {},
   "source": [
    "Продублируйте все колонки `phoneBookDf`"
   ]
  },
  {
   "cell_type": "code",
   "execution_count": null,
   "id": "2e47f36e",
   "metadata": {},
   "outputs": [],
   "source": [
    "duplDf = ..."
   ]
  },
  {
   "cell_type": "markdown",
   "id": "023e809b",
   "metadata": {},
   "source": [
    "Добавьте колонку 'name_phone' в `phoneBookDf` - сконкатенируйте имя и телефон через пробел"
   ]
  },
  {
   "cell_type": "code",
   "execution_count": null,
   "id": "4396e7c9",
   "metadata": {},
   "outputs": [],
   "source": []
  },
  {
   "cell_type": "markdown",
   "id": "e4b6a2ea",
   "metadata": {},
   "source": [
    "Создайте копию датафрейма без колонки `name`"
   ]
  },
  {
   "cell_type": "code",
   "execution_count": null,
   "id": "f85d95c6",
   "metadata": {},
   "outputs": [],
   "source": [
    "newDf = ..."
   ]
  },
  {
   "cell_type": "markdown",
   "id": "4ca16963",
   "metadata": {},
   "source": [
    "Сделайте это же с помощью выражения"
   ]
  },
  {
   "cell_type": "code",
   "execution_count": null,
   "id": "bafd3d0d",
   "metadata": {},
   "outputs": [],
   "source": [
    "colDf = ..."
   ]
  },
  {
   "cell_type": "markdown",
   "id": "c54917e2",
   "metadata": {},
   "source": [
    "Создайте такой же датафрейм, как `phonBookDf`, но так, чтобы имена всех его колонок были в верхнем регистре"
   ]
  },
  {
   "cell_type": "code",
   "execution_count": null,
   "id": "7c07bce4",
   "metadata": {},
   "outputs": [],
   "source": [
    "newDf = ..."
   ]
  },
  {
   "cell_type": "markdown",
   "id": "6bae574b",
   "metadata": {},
   "source": [
    "Переведите имя колонки `phone` верхний регистр с помощью `.alias()`"
   ]
  },
  {
   "cell_type": "code",
   "execution_count": null,
   "id": "e45d1977",
   "metadata": {},
   "outputs": [],
   "source": [
    "cDf = ..."
   ]
  },
  {
   "cell_type": "markdown",
   "id": "4a1095e5",
   "metadata": {},
   "source": [
    "Сделайте то же самое с помощью `selectExpr()`"
   ]
  },
  {
   "cell_type": "code",
   "execution_count": null,
   "id": "1ad7ff82",
   "metadata": {},
   "outputs": [],
   "source": [
    "sDf = ..."
   ]
  },
  {
   "cell_type": "markdown",
   "id": "61e18050",
   "metadata": {},
   "source": [
    "Сделайте это с помощью `withColumnRenamed()`"
   ]
  },
  {
   "cell_type": "code",
   "execution_count": null,
   "id": "10c4d648",
   "metadata": {},
   "outputs": [],
   "source": [
    "wDf = ..."
   ]
  },
  {
   "cell_type": "markdown",
   "id": "d5f123c6",
   "metadata": {},
   "source": [
    "Отфильтруйте месяцы датафрейма `monthDf`: оставьте тольк те, имя которых начинается с `J`"
   ]
  },
  {
   "cell_type": "code",
   "execution_count": null,
   "id": "e907314a",
   "metadata": {},
   "outputs": [],
   "source": [
    "monthDf..."
   ]
  },
  {
   "cell_type": "markdown",
   "id": "b7f24a8f",
   "metadata": {},
   "source": [
    "Отфильтруйте 5 и 7 месяцы в датафрейме `monthDf`"
   ]
  },
  {
   "cell_type": "code",
   "execution_count": null,
   "id": "4edc04d8",
   "metadata": {},
   "outputs": [],
   "source": [
    "monthDf..."
   ]
  },
  {
   "cell_type": "markdown",
   "id": "58926349",
   "metadata": {},
   "source": [
    "Сколько строк дублируется в датафрейме `monthDf`?"
   ]
  },
  {
   "cell_type": "code",
   "execution_count": null,
   "id": "4817e4a7",
   "metadata": {},
   "outputs": [],
   "source": [
    "dupNo = ..."
   ]
  },
  {
   "cell_type": "markdown",
   "id": "dab54407",
   "metadata": {},
   "source": [
    "Создайте датафрейм времен года:\n",
    "\n",
    "    1, winter\n",
    "    2, spring\n",
    "    3, summer\n",
    "    4, autumn\n",
    "\n",
    "Назовите колонки\n",
    "\n",
    "* id\n",
    "* season_name"
   ]
  },
  {
   "cell_type": "code",
   "execution_count": null,
   "id": "b41d9bca",
   "metadata": {},
   "outputs": [],
   "source": [
    "seasonDf = ..."
   ]
  },
  {
   "cell_type": "markdown",
   "id": "dfaa1586",
   "metadata": {},
   "source": [
    "Добавьте в информацию о месяцах название сезона"
   ]
  },
  {
   "cell_type": "code",
   "execution_count": null,
   "id": "71431f95",
   "metadata": {},
   "outputs": [],
   "source": [
    "monthDf..."
   ]
  },
  {
   "cell_type": "markdown",
   "id": "3308a6ac",
   "metadata": {},
   "source": [
    "Месяцы каких сезонов есть в датафрейме `monthDf`?"
   ]
  },
  {
   "cell_type": "code",
   "execution_count": null,
   "id": "b6ebda14",
   "metadata": {},
   "outputs": [],
   "source": [
    "seasonDf..."
   ]
  },
  {
   "cell_type": "markdown",
   "id": "5c6a4302",
   "metadata": {},
   "source": [
    "**НЕ ЗАБУДЬТЕ** остановить спарк сессию!"
   ]
  },
  {
   "cell_type": "code",
   "execution_count": null,
   "id": "7dff0ee1",
   "metadata": {},
   "outputs": [],
   "source": [
    "spark.stop()"
   ]
  },
  {
   "cell_type": "markdown",
   "id": "879c6bad",
   "metadata": {},
   "source": [
    "<a id=\"theend\"></a>\n",
    "<hr style=\"border: 3px solid #460073\"> </hr>\n",
    "\n",
    "<div style=\"text-align: left\"><img src=\"/static/images/logo.png\" style=\"width:3%;\" align=\"left\"></div>\n",
    "<div style=\"text-align: right\"> © Accenture. All rights reserved</div>"
   ]
  }
 ],
 "metadata": {
  "kernelspec": {
   "display_name": "Python 3",
   "language": "python",
   "name": "python3"
  },
  "language_info": {
   "codemirror_mode": {
    "name": "ipython",
    "version": 3
   },
   "file_extension": ".py",
   "mimetype": "text/x-python",
   "name": "python",
   "nbconvert_exporter": "python",
   "pygments_lexer": "ipython3",
   "version": "3.6.9"
  }
 },
 "nbformat": 4,
 "nbformat_minor": 5
}
