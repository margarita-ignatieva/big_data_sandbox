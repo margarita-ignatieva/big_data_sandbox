{
 "cells": [
  {
   "cell_type": "code",
   "execution_count": 2,
   "id": "c71a3edd",
   "metadata": {},
   "outputs": [
    {
     "name": "stdout",
     "output_type": "stream",
     "text": [
      "namenode is running as process 305.  Stop it first and ensure /tmp/hadoop-root-namenode.pid file is empty before retry.\r\n"
     ]
    }
   ],
   "source": [
    "!hdfs namenode"
   ]
  }
 ],
 "metadata": {
  "kernelspec": {
   "display_name": "SSH hdfs-base hdfs-base",
   "language": "",
   "name": "rik_ssh_hdfs_base_hdfsbase"
  },
  "language_info": {
   "codemirror_mode": {
    "name": "ipython",
    "version": 3
   },
   "file_extension": ".py",
   "mimetype": "text/x-python",
   "name": "python",
   "nbconvert_exporter": "python",
   "pygments_lexer": "ipython3",
   "version": "3.6.9"
  }
 },
 "nbformat": 4,
 "nbformat_minor": 5
}
