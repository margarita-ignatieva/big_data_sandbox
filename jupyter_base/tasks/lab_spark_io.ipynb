{
 "cells": [
  {
   "cell_type": "markdown",
   "id": "47113701",
   "metadata": {},
   "source": [
    "<img src=\"/static/images/hdr.png\" align=\"center\">"
   ]
  },
  {
   "cell_type": "markdown",
   "id": "486c1b0b",
   "metadata": {},
   "source": [
    "# SPARK IO: Лабораторная работа"
   ]
  },
  {
   "cell_type": "markdown",
   "id": "0c7be37d",
   "metadata": {},
   "source": [
    "<hr style=\"border:2px solid #460073\"> </hr>\n",
    "\n",
    "<h3 style=\"color: #460073\">Практические материалы</h3>\n",
    "\n",
    "<div style=\"color:#b455aa; text-align: right\"> Версия 1.0 от 10 октября 2021</div>"
   ]
  },
  {
   "cell_type": "code",
   "execution_count": null,
   "id": "bba5b6bd",
   "metadata": {},
   "outputs": [],
   "source": [
    "from pyspark.sql import SparkSession"
   ]
  },
  {
   "cell_type": "code",
   "execution_count": null,
   "id": "45f369d6",
   "metadata": {},
   "outputs": [],
   "source": [
    "spark = (\n",
    "    SparkSession\n",
    "    .builder\n",
    "    .master(\"local[*]\")\n",
    "    .appName(\"lab_spark_io\"<логин>)\n",
    "    .getOrCreate()\n",
    ")"
   ]
  },
  {
   "cell_type": "markdown",
   "id": "c9883c32",
   "metadata": {},
   "source": [
    "## One-liners"
   ]
  },
  {
   "cell_type": "markdown",
   "id": "3da5d100",
   "metadata": {},
   "source": [
    "Создайте датафрейм (`createDataFrame()`) с данными о летних месяцах:\n",
    "\n",
    "    6, s, June\n",
    "    7, s, July\n",
    "    8, s, August\n",
    "\n",
    "Назовите колонки\n",
    "\n",
    "* month_no\n",
    "* season_id\n",
    "* month_name"
   ]
  },
  {
   "cell_type": "code",
   "execution_count": null,
   "id": "91ce57d2",
   "metadata": {},
   "outputs": [],
   "source": [
    "monthDf = ..."
   ]
  },
  {
   "cell_type": "markdown",
   "id": "9d510d7b",
   "metadata": {},
   "source": [
    "Проверьте схему (`printSchema()`)"
   ]
  },
  {
   "cell_type": "code",
   "execution_count": null,
   "id": "5b2a9b55",
   "metadata": {},
   "outputs": [],
   "source": []
  },
  {
   "cell_type": "markdown",
   "id": "191b73a0",
   "metadata": {},
   "source": [
    "Сохраните датафрейм `monthDf` как файл в формате `orc` в поддиректории `data` локальной директории (директории с ноутбуком)"
   ]
  },
  {
   "cell_type": "code",
   "execution_count": null,
   "id": "4d4a96a2",
   "metadata": {},
   "outputs": [],
   "source": [
    "monthDf. ..."
   ]
  },
  {
   "cell_type": "markdown",
   "id": "100960e3",
   "metadata": {},
   "source": [
    "Удвойте количество строк - воспользуйтесь файловыми манипуляциями. Загрузите датафрейм из измененных файлов, убедитесь, что строк данных стало вдвое больше."
   ]
  },
  {
   "cell_type": "code",
   "execution_count": null,
   "id": "77e1cdc0",
   "metadata": {},
   "outputs": [],
   "source": [
    "doubleDf = ..."
   ]
  },
  {
   "cell_type": "markdown",
   "id": "f1ff7ed1",
   "metadata": {},
   "source": [
    "Сохраните датафрейм `doubleDb` как таблицу `months` в локальном метасторе (`saveAsTable()`)"
   ]
  },
  {
   "cell_type": "code",
   "execution_count": null,
   "id": "4c3be0bc",
   "metadata": {},
   "outputs": [],
   "source": [
    "doubleDb. ..."
   ]
  },
  {
   "cell_type": "markdown",
   "id": "ab44f47e",
   "metadata": {},
   "source": [
    "Убедитесь, что метастор \"видит\" созданную таблицу"
   ]
  },
  {
   "cell_type": "code",
   "execution_count": null,
   "id": "975f3779",
   "metadata": {},
   "outputs": [],
   "source": []
  },
  {
   "cell_type": "markdown",
   "id": "88a21303",
   "metadata": {},
   "source": [
    "Создайте в PostgreSQL базе данных `miscdata` таблицу `pers_months` (убедитесь, что таблица не существует, если ее уже создали ваши коллеги - не создавайте, пропустите этот шаг)\n",
    "\n",
    "В этой таблице должны храниться данные о месяцах и дополнительная строковая колонка `login` с вашим логином"
   ]
  },
  {
   "cell_type": "code",
   "execution_count": null,
   "id": "ec794ab4",
   "metadata": {},
   "outputs": [],
   "source": []
  },
  {
   "cell_type": "markdown",
   "id": "e54dab1b",
   "metadata": {},
   "source": [
    "Сохраните датафрейм `doubleDf` в эту таблицу"
   ]
  },
  {
   "cell_type": "code",
   "execution_count": null,
   "id": "62990bdf",
   "metadata": {},
   "outputs": [],
   "source": []
  },
  {
   "cell_type": "markdown",
   "id": "31bc33aa",
   "metadata": {},
   "source": [
    "Создайте (загрузите) датафрейм `fromJdbc` из таблицы `pers_months` в 2 потока, убедитесь, что датафрейм состоит из двух партиций."
   ]
  },
  {
   "cell_type": "code",
   "execution_count": null,
   "id": "ad6fa10a",
   "metadata": {},
   "outputs": [],
   "source": [
    "fromJdbc = ..."
   ]
  },
  {
   "cell_type": "markdown",
   "id": "062223a0",
   "metadata": {},
   "source": [
    "Сохраните загруженный датафрейм `fromJdbc` \"как есть\" в поддиректории `2parts` текущей директории (убедитесь, что получилось 2 файла)"
   ]
  },
  {
   "cell_type": "code",
   "execution_count": null,
   "id": "c57fbc54",
   "metadata": {},
   "outputs": [],
   "source": []
  },
  {
   "cell_type": "markdown",
   "id": "0ebbafee",
   "metadata": {},
   "source": [
    "Сохраните датафрейм `fromJdbc`в виде одного файла в поддиректории `1part` текущей директории (убедитесь, что получился 1 файл)"
   ]
  },
  {
   "cell_type": "code",
   "execution_count": null,
   "id": "3029ef2b",
   "metadata": {},
   "outputs": [],
   "source": []
  },
  {
   "cell_type": "markdown",
   "id": "4399fc28",
   "metadata": {},
   "source": [
    "**Вопрос**: как проще всего загрузить CSV файл в таблицу PostgreSQL (особенно в ситуации, когда такой таблицы в базе данных еще нет)?"
   ]
  },
  {
   "cell_type": "code",
   "execution_count": null,
   "id": "d982a5e3",
   "metadata": {},
   "outputs": [],
   "source": []
  },
  {
   "cell_type": "markdown",
   "id": "b3a33a02",
   "metadata": {},
   "source": [
    "**НЕ ЗАБУДЬТЕ** остановить спарк сессию!"
   ]
  },
  {
   "cell_type": "code",
   "execution_count": null,
   "id": "50f7bfe5",
   "metadata": {},
   "outputs": [],
   "source": [
    "spark.stop()"
   ]
  },
  {
   "cell_type": "markdown",
   "id": "4ab35b1d",
   "metadata": {},
   "source": [
    "<a id=\"theend\"></a>\n",
    "<hr style=\"border: 3px solid #460073\"> </hr>\n",
    "\n",
    "<div style=\"text-align: left\"><img src=\"/static/images/logo.png\" style=\"width:3%;\" align=\"left\"></div>\n",
    "<div style=\"text-align: right\"> © Accenture. All rights reserved</div>"
   ]
  }
 ],
 "metadata": {
  "kernelspec": {
   "display_name": "Python 3",
   "language": "python",
   "name": "python3"
  },
  "language_info": {
   "codemirror_mode": {
    "name": "ipython",
    "version": 3
   },
   "file_extension": ".py",
   "mimetype": "text/x-python",
   "name": "python",
   "nbconvert_exporter": "python",
   "pygments_lexer": "ipython3",
   "version": "3.8.3"
  }
 },
 "nbformat": 4,
 "nbformat_minor": 5
}
