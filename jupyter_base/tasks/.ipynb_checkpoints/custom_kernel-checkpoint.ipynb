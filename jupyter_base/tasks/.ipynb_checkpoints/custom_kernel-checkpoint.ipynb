{
 "cells": [
  {
   "cell_type": "markdown",
   "id": "b1db72c5",
   "metadata": {},
   "source": [
    "# Working with custom Kernel in Jupyter\n",
    "\n",
    "Before practice please go through following [docks on virtenv](https://docs.python.org/3/tutorial/venv.html) \n",
    "and [IPython kernels](https://ipython.org/ipython-doc/3/development/kernels.html)"
   ]
  },
  {
   "cell_type": "markdown",
   "id": "14bf7843",
   "metadata": {},
   "source": [
    "<div class='alert alert-warning' role='alert' style='margin: 10px'>\n",
    "\n",
    "<p><b>Attention</b></p>\n",
    "\n",
    "<p>The following tutorial is amed to run in console except the last task -> checking if kernel was created</p>\n",
    "</div>"
   ]
  },
  {
   "cell_type": "markdown",
   "id": "7e44650a",
   "metadata": {},
   "source": [
    "\n",
    "<h2 style='color: #ADD8E6'>Manage your own virtual env </h2>"
   ]
  },
  {
   "cell_type": "markdown",
   "id": "4ce3d473",
   "metadata": {},
   "source": [
    "<li>Create virtualenv with the name test</li>"
   ]
  },
  {
   "cell_type": "markdown",
   "id": "660e501a",
   "metadata": {},
   "source": [
    "<li>Activate your virtualenv</li>"
   ]
  },
  {
   "cell_type": "markdown",
   "id": "6389a90d",
   "metadata": {},
   "source": [
    "<li>Install any python package with pip inside your viertenv and check it was not installed globally</li>"
   ]
  },
  {
   "cell_type": "markdown",
   "id": "7d4339b3",
   "metadata": {},
   "source": [
    "<li>Delete your virtualenv</li>"
   ]
  },
  {
   "cell_type": "markdown",
   "id": "68f87297",
   "metadata": {},
   "source": [
    "\n",
    "<h2 style='color: #ADD8E6'>Attach virtualenv as kernel to Jupyter</h2>"
   ]
  },
  {
   "cell_type": "markdown",
   "id": "cceaacce",
   "metadata": {},
   "source": [
    "<li>Follow this <a href='https://queirozf.com/entries/jupyter-kernels-how-to-add-change-remove'>tutorial</a> to create and attach virtualenv as kernel to Jupyter</li>"
   ]
  },
  {
   "cell_type": "markdown",
   "id": "d398d42b",
   "metadata": {},
   "source": [
    "<li>Check created Kernel exists with creating new file in Jupyter webUI and choosing your kernel</li>"
   ]
  },
  {
   "cell_type": "code",
   "execution_count": 6,
   "id": "ddeb8345",
   "metadata": {},
   "outputs": [
    {
     "name": "stdout",
     "output_type": "stream",
     "text": [
      "\u001b[0m\u001b[01;34mbin\u001b[0m/  \u001b[01;34metc\u001b[0m/  \u001b[01;34mgames\u001b[0m/  \u001b[01;34minclude\u001b[0m/  \u001b[01;34mlib\u001b[0m/  \u001b[01;36mman\u001b[0m@  \u001b[01;34msbin\u001b[0m/  \u001b[01;34mshare\u001b[0m/  \u001b[01;34msrc\u001b[0m/\r\n"
     ]
    }
   ],
   "source": [
    "ls"
   ]
  }
 ],
 "metadata": {
  "kernelspec": {
   "display_name": "Python 3 (ipykernel)",
   "language": "python",
   "name": "python3"
  },
  "language_info": {
   "codemirror_mode": {
    "name": "ipython",
    "version": 3
   },
   "file_extension": ".py",
   "mimetype": "text/x-python",
   "name": "python",
   "nbconvert_exporter": "python",
   "pygments_lexer": "ipython3",
   "version": "3.8.10"
  }
 },
 "nbformat": 4,
 "nbformat_minor": 5
}
