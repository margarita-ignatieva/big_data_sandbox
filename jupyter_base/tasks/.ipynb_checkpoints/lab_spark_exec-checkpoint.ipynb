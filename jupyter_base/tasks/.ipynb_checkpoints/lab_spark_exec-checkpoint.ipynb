{
 "cells": [
  {
   "cell_type": "markdown",
   "id": "48ffa685",
   "metadata": {},
   "source": [
    "<img src=\"/static/images/hdr.png\" align=\"center\">"
   ]
  },
  {
   "cell_type": "markdown",
   "id": "fb00ab55",
   "metadata": {},
   "source": [
    "# SPARK EXEC: Лабораторная работа"
   ]
  },
  {
   "cell_type": "markdown",
   "id": "1ba978b6",
   "metadata": {},
   "source": [
    "<hr style=\"border:2px solid #460073\"> </hr>\n",
    "\n",
    "<h3 style=\"color: #460073\">Практические материалы</h3>\n",
    "\n",
    "<div style=\"color:#b455aa; text-align: right\"> Версия 1.0 от 10 октября 2021</div>"
   ]
  },
  {
   "cell_type": "code",
   "execution_count": null,
   "id": "ecca61aa",
   "metadata": {},
   "outputs": [],
   "source": [
    "from pyspark.sql import SparkSession"
   ]
  },
  {
   "cell_type": "code",
   "execution_count": null,
   "id": "e83bb378",
   "metadata": {},
   "outputs": [],
   "source": [
    "spark = (\n",
    "    SparkSession\n",
    "    .builder\n",
    "    .master(\"local\")\n",
    "    .appName(\"lab_df\"<логин>)\n",
    "    .getOrCreate()\n",
    ")"
   ]
  },
  {
   "cell_type": "markdown",
   "id": "bd7b8d25",
   "metadata": {},
   "source": [
    "**Задача 1**"
   ]
  },
  {
   "cell_type": "markdown",
   "id": "e4beaffe",
   "metadata": {},
   "source": [
    "Problem 3.7\n",
    "\n",
    "Data Description:\n",
    "\n",
    "    All the Order records are stored at /data/cca175/orders\n",
    "    All the Order Items records are stored at /data/cca175/order_items\n",
    "    All the Customer records are stored at /data/cca175/customers\n",
    " \n",
    "Orders Schema:\n",
    "\n",
    "    order_id int, \n",
    "    order_date string, \n",
    "    order_customer_id int,\n",
    "    order_status string \n",
    "\n",
    "order_items Schema:\n",
    "\n",
    "    order_item_id int,\n",
    "    order_item_order_id int,\n",
    "    order_item_product_id int, \n",
    "    order_item_quantity tinyint,\n",
    "    order_item_subtotal double,\n",
    "    order_item_product_price double\n",
    "\n",
    "Customers Schema:\n",
    "\n",
    "    customer_id int,\n",
    "    customer_fname string,\n",
    "    customer_lname string,\n",
    "    customer_email string,\n",
    "    customer_password string,\n",
    "    customer_street string,\n",
    "    customer_city string,\n",
    "    customer_state string,\n",
    "    customer_zipcode string\n",
    "\n",
    "Output Requirements:\n",
    "\n",
    "Get customers in each city who have placed successful orders of revenue more than 500\n",
    "Use parquet format for the output files\n",
    "Use snappy compression\n",
    "Place the result data in local directory problem3.7/solution\n",
    "Output should only contain customer_alias (first character of customer_fname plus space plus customer_lname) \n",
    "and order_revenue"
   ]
  },
  {
   "cell_type": "code",
   "execution_count": null,
   "id": "3de63edc",
   "metadata": {},
   "outputs": [],
   "source": []
  },
  {
   "cell_type": "markdown",
   "id": "e56adede",
   "metadata": {},
   "source": [
    "**Задача 2**"
   ]
  },
  {
   "cell_type": "markdown",
   "id": "88629484",
   "metadata": {},
   "source": [
    "Problem 4.5\n",
    "\n",
    "Data Description:\n",
    "\n",
    "    All the order records are stored at /data/cca175/orders\n",
    "\n",
    "Orders Schema:\n",
    "\n",
    "    order_id int, \n",
    "    order_date string, \n",
    "    order_customer_id int,\n",
    "    order_status string \n",
    "\n",
    "Output Requirements:\n",
    "\n",
    "Output all the order status allong with their count\n",
    "Use CSV format for the output files\n",
    "Place the result data in local directory problem4.5/solution\n",
    "Compress the output using gzip compression\n",
    "Output should only contain order_status,total_count\n",
    "Output should be in descending order by total_count\n",
    "Output should only contain one partition file"
   ]
  },
  {
   "cell_type": "code",
   "execution_count": null,
   "id": "65025c56",
   "metadata": {},
   "outputs": [],
   "source": []
  },
  {
   "cell_type": "markdown",
   "id": "25775b94",
   "metadata": {},
   "source": [
    "**Задача 3**"
   ]
  },
  {
   "cell_type": "markdown",
   "id": "81186fef",
   "metadata": {},
   "source": [
    "Problem 4.1\n",
    "\n",
    "Data Description:\n",
    "\n",
    "    All the Order records are stored at /data/cca175/orders\n",
    "    All the Order Items records are stored at /data/cca175/order_items\n",
    "    All the product records are stored at /data/cca175/products\n",
    " \n",
    "Products Schema:\n",
    "\n",
    "    product_id int,\n",
    "    product_category_id int,\n",
    "    product_name string,\n",
    "    product_description string,\n",
    "    product_price double,\n",
    "    product_image string\n",
    "\n",
    "Output Requirements:\n",
    "\n",
    "Get top 5 revenue generating products\n",
    "Place the result data in HDFS directory /tmp/{studNN}/problem4.1/solution\n",
    "Output should only contain product_id, product_name, product_revenue"
   ]
  },
  {
   "cell_type": "code",
   "execution_count": null,
   "id": "094e420b",
   "metadata": {},
   "outputs": [],
   "source": []
  },
  {
   "cell_type": "markdown",
   "id": "e21e40ca",
   "metadata": {},
   "source": [
    "**НЕ ЗАБУДЬТЕ** остановить спарк сессию!"
   ]
  },
  {
   "cell_type": "code",
   "execution_count": null,
   "id": "bd80e165",
   "metadata": {},
   "outputs": [],
   "source": [
    "spark.stop()"
   ]
  },
  {
   "cell_type": "markdown",
   "id": "2061547f",
   "metadata": {},
   "source": [
    "<a id=\"theend\"></a>\n",
    "<hr style=\"border: 3px solid #460073\"> </hr>\n",
    "\n",
    "<div style=\"text-align: left\"><img src=\"/static/images/logo.png\" style=\"width:3%;\" align=\"left\"></div>\n",
    "<div style=\"text-align: right\"> © Accenture. All rights reserved</div>"
   ]
  }
 ],
 "metadata": {
  "kernelspec": {
   "display_name": "Python 3",
   "language": "python",
   "name": "python3"
  },
  "language_info": {
   "codemirror_mode": {
    "name": "ipython",
    "version": 3
   },
   "file_extension": ".py",
   "mimetype": "text/x-python",
   "name": "python",
   "nbconvert_exporter": "python",
   "pygments_lexer": "ipython3",
   "version": "3.8.5"
  }
 },
 "nbformat": 4,
 "nbformat_minor": 5
}
