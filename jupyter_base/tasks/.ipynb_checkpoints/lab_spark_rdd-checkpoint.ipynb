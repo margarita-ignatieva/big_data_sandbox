{
 "cells": [
  {
   "cell_type": "markdown",
   "id": "a3e41f96",
   "metadata": {},
   "source": [
    "<img src=\"/static/images/hdr.png\" align=\"center\">"
   ]
  },
  {
   "cell_type": "markdown",
   "id": "20c5a3cf",
   "metadata": {},
   "source": [
    "# SPARK RDD: Лабораторная работа"
   ]
  },
  {
   "cell_type": "markdown",
   "id": "8ece5b99",
   "metadata": {},
   "source": [
    "<hr style=\"border:2px solid #460073\"> </hr>\n",
    "\n",
    "<h3 style=\"color: #460073\">Практические материалы</h3>\n",
    "\n",
    "<div style=\"color:#b455aa; text-align: right\"> Версия 1.0 от 10 октября 2021</div>"
   ]
  },
  {
   "cell_type": "code",
   "execution_count": null,
   "id": "b33e1a17",
   "metadata": {},
   "outputs": [],
   "source": [
    "from pyspark.sql import SparkSession"
   ]
  },
  {
   "cell_type": "code",
   "execution_count": null,
   "id": "c4c76293",
   "metadata": {},
   "outputs": [],
   "source": [
    "spark = (\n",
    "    SparkSession\n",
    "    .builder\n",
    "    .master(\"local\")\n",
    "    .appName(\"lab_rdd\"<логин>)\n",
    "    .getOrCreate()\n",
    ")"
   ]
  },
  {
   "cell_type": "markdown",
   "id": "ac217987",
   "metadata": {},
   "source": [
    "## One-liners"
   ]
  },
  {
   "cell_type": "markdown",
   "id": "28760199",
   "metadata": {},
   "source": [
    "Создайте rdd (`parallelize()`) с данными о месяцах года (каждый месяц - строка = элемент rdd)"
   ]
  },
  {
   "cell_type": "code",
   "execution_count": null,
   "id": "433cd58a",
   "metadata": {},
   "outputs": [],
   "source": [
    "monthRdd = ..."
   ]
  },
  {
   "cell_type": "markdown",
   "id": "8f6f2487",
   "metadata": {},
   "source": [
    "Сколько месяцев получилось (`count()`)"
   ]
  },
  {
   "cell_type": "code",
   "execution_count": null,
   "id": "0059d1f2",
   "metadata": {},
   "outputs": [],
   "source": []
  },
  {
   "cell_type": "markdown",
   "id": "06f43a49",
   "metadata": {},
   "source": [
    "Создайте новый датафрейм, которые содержит только летние месяцы (`filter()`)"
   ]
  },
  {
   "cell_type": "code",
   "execution_count": null,
   "id": "0f79c653",
   "metadata": {},
   "outputs": [],
   "source": [
    "sRdd = ..."
   ]
  },
  {
   "cell_type": "markdown",
   "id": "4e1ec76a",
   "metadata": {},
   "source": [
    "Создайте RDD из файла - используйте файл котировок IBM (file:///data/bigdata_home/data/stocks/ibm.us.txt)"
   ]
  },
  {
   "cell_type": "code",
   "execution_count": null,
   "id": "7e492880",
   "metadata": {},
   "outputs": [],
   "source": [
    "ibmRdd = ..."
   ]
  },
  {
   "cell_type": "markdown",
   "id": "71ff967a",
   "metadata": {},
   "source": [
    "Удалите строку заголовка из rdd"
   ]
  },
  {
   "cell_type": "code",
   "execution_count": null,
   "id": "2fc15295",
   "metadata": {},
   "outputs": [],
   "source": [
    "ibmRdd = ..."
   ]
  },
  {
   "cell_type": "markdown",
   "id": "e11fc25a",
   "metadata": {},
   "source": [
    "Каков максимальный объем (`volume`) содержится в данных?"
   ]
  },
  {
   "cell_type": "code",
   "execution_count": null,
   "id": "da97687d",
   "metadata": {},
   "outputs": [],
   "source": [
    "maxVolume = ..."
   ]
  },
  {
   "cell_type": "markdown",
   "id": "4c43f0c0",
   "metadata": {},
   "source": [
    "Отсортируйте данные по убыванию поля `volume`, соберите на драйвер первые три элемента получившегося rdd"
   ]
  },
  {
   "cell_type": "code",
   "execution_count": null,
   "id": "866f39c8",
   "metadata": {},
   "outputs": [],
   "source": []
  },
  {
   "cell_type": "markdown",
   "id": "2d3e2a4f",
   "metadata": {},
   "source": [
    "Преобразуйте rdd с месяцами года в pair rdd - добавьте номер месяца (в качестве ключа) (`map()`) "
   ]
  },
  {
   "cell_type": "code",
   "execution_count": null,
   "id": "fe98e0b7",
   "metadata": {},
   "outputs": [],
   "source": [
    "pairedRdd = ..."
   ]
  },
  {
   "cell_type": "markdown",
   "id": "5189fbcc",
   "metadata": {},
   "source": [
    "Каков номер месяца, имеющего самое длинное название?"
   ]
  },
  {
   "cell_type": "code",
   "execution_count": null,
   "id": "8e1b571d",
   "metadata": {},
   "outputs": [],
   "source": [
    "longestMonthNo = ..."
   ]
  },
  {
   "cell_type": "markdown",
   "id": "0643fa72",
   "metadata": {},
   "source": [
    "Сохраните данные о месяцах в файл в поддиректорию months.dat текущей директории с разделителем запятая, добавьте заголовок \"monthno,monthname\""
   ]
  },
  {
   "cell_type": "code",
   "execution_count": null,
   "id": "11689414",
   "metadata": {},
   "outputs": [],
   "source": []
  },
  {
   "cell_type": "markdown",
   "id": "f06e22c5",
   "metadata": {},
   "source": [
    "За какие годы есть данные в котировках IBM, которые мы загрузили?"
   ]
  },
  {
   "cell_type": "code",
   "execution_count": null,
   "id": "c7b25685",
   "metadata": {},
   "outputs": [],
   "source": []
  },
  {
   "cell_type": "markdown",
   "id": "e005b3d9",
   "metadata": {},
   "source": [
    "Посчитайте максимальный объем (`volume`) за каждый имеющийся год котировок, соберите данные на драйвер, посмотрите, что получилось."
   ]
  },
  {
   "cell_type": "code",
   "execution_count": null,
   "id": "0609e658",
   "metadata": {},
   "outputs": [],
   "source": []
  },
  {
   "cell_type": "markdown",
   "id": "0b8df956",
   "metadata": {},
   "source": [
    "Сколько различных городов содержится в данных таблицы customers (см. файл /data/cca175_data/customers, город - третье с конца поле)?"
   ]
  },
  {
   "cell_type": "code",
   "execution_count": null,
   "id": "91a3bc97",
   "metadata": {},
   "outputs": [],
   "source": []
  },
  {
   "cell_type": "markdown",
   "id": "e7441a0b",
   "metadata": {},
   "source": [
    "Задача: реализуйте wordcount\n",
    "\n",
    "Данные для подсчета содержатся в файле /data/spark.txt. Постарайтесь убрать лишние символы, перевести все слова в нижний регистр и т.п.\n",
    "\n",
    "Результат необходимо записать в поддиректорию wordcount.dat текущей директории. "
   ]
  },
  {
   "cell_type": "code",
   "execution_count": null,
   "id": "318a66bf",
   "metadata": {},
   "outputs": [],
   "source": []
  },
  {
   "cell_type": "markdown",
   "id": "7fc906e2",
   "metadata": {},
   "source": [
    "Какие 10 наиболее часто встречающихся в тексте слов? Воспользуйтесь связью rdd-dataframe."
   ]
  },
  {
   "cell_type": "code",
   "execution_count": null,
   "id": "59c8fec6",
   "metadata": {},
   "outputs": [],
   "source": []
  },
  {
   "cell_type": "markdown",
   "id": "c090e32a",
   "metadata": {},
   "source": [
    "**НЕ ЗАБУДЬТЕ** остановить спарк сессию!"
   ]
  },
  {
   "cell_type": "code",
   "execution_count": null,
   "id": "b835e9df",
   "metadata": {},
   "outputs": [],
   "source": [
    "spark.stop()"
   ]
  },
  {
   "cell_type": "markdown",
   "id": "facbbde1",
   "metadata": {},
   "source": [
    "<a id=\"theend\"></a>\n",
    "<hr style=\"border: 3px solid #460073\"> </hr>\n",
    "\n",
    "<div style=\"text-align: left\"><img src=\"/static/images/logo.png\" style=\"width:3%;\" align=\"left\"></div>\n",
    "<div style=\"text-align: right\"> © Accenture. All rights reserved</div>"
   ]
  }
 ],
 "metadata": {
  "kernelspec": {
   "display_name": "Python 3",
   "language": "python",
   "name": "python3"
  },
  "language_info": {
   "codemirror_mode": {
    "name": "ipython",
    "version": 3
   },
   "file_extension": ".py",
   "mimetype": "text/x-python",
   "name": "python",
   "nbconvert_exporter": "python",
   "pygments_lexer": "ipython3",
   "version": "3.8.5"
  }
 },
 "nbformat": 4,
 "nbformat_minor": 5
}
