{
 "cells": [
  {
   "cell_type": "code",
   "execution_count": null,
   "id": "c673a828",
   "metadata": {},
   "outputs": [],
   "source": [
    "##add udf\n",
    "##ad formats\n",
    "##ad "
   ]
  }
 ],
 "metadata": {
  "kernelspec": {
   "display_name": "SSH hive hive",
   "language": "",
   "name": "rik_ssh_hive_hive"
  },
  "language_info": {
   "codemirror_mode": {
    "name": "ipython",
    "version": 3
   },
   "file_extension": ".py",
   "mimetype": "text/x-python",
   "name": "python",
   "nbconvert_exporter": "python",
   "pygments_lexer": "ipython3",
   "version": "3.6.9"
  }
 },
 "nbformat": 4,
 "nbformat_minor": 5
}
