{
 "cells": [
  {
   "cell_type": "markdown",
   "id": "9d889e91",
   "metadata": {},
   "source": [
    "<img src=\"/static/images/hdr.png\" align=\"center\">"
   ]
  },
  {
   "cell_type": "markdown",
   "id": "3ecaf5e5",
   "metadata": {},
   "source": [
    "# SPARK DATAFRAMES: Лабораторная работа 2"
   ]
  },
  {
   "cell_type": "markdown",
   "id": "73648ef7",
   "metadata": {},
   "source": [
    "<hr style=\"border:2px solid #460073\"> </hr>\n",
    "\n",
    "<h3 style=\"color: #460073\">Практические материалы</h3>\n",
    "\n",
    "<div style=\"color:#b455aa; text-align: right\"> Версия 1.0 от 10 октября 2021</div>"
   ]
  },
  {
   "cell_type": "code",
   "execution_count": null,
   "id": "dbf85d9d",
   "metadata": {},
   "outputs": [],
   "source": [
    "from pyspark.sql import SparkSession"
   ]
  },
  {
   "cell_type": "code",
   "execution_count": null,
   "id": "22e0f4df",
   "metadata": {},
   "outputs": [],
   "source": [
    "spark = (\n",
    "    SparkSession\n",
    "    .builder\n",
    "    .master(\"local\")\n",
    "    .appName(\"lab_df\"<логин>)\n",
    "    .getOrCreate()\n",
    ")"
   ]
  },
  {
   "cell_type": "markdown",
   "id": "3437fa5f",
   "metadata": {},
   "source": [
    "## One-liners"
   ]
  },
  {
   "cell_type": "markdown",
   "id": "844827d8",
   "metadata": {},
   "source": [
    "Создайте датафрейм (`createDataFrame()`) с данными о летних месяцах:\n",
    "\n",
    "    6, s, June\n",
    "    7, s, July\n",
    "    8, s, August\n",
    "\n",
    "Назовите колонки\n",
    "\n",
    "* month_no\n",
    "* season_id\n",
    "* month_name"
   ]
  },
  {
   "cell_type": "code",
   "execution_count": null,
   "id": "4aac2c76",
   "metadata": {},
   "outputs": [],
   "source": [
    "monthDf = ..."
   ]
  },
  {
   "cell_type": "markdown",
   "id": "ce94faca",
   "metadata": {},
   "source": [
    "Проверьте схему (`printSchema()`)"
   ]
  },
  {
   "cell_type": "code",
   "execution_count": null,
   "id": "9d88e91c",
   "metadata": {},
   "outputs": [],
   "source": []
  },
  {
   "cell_type": "markdown",
   "id": "70de6ed4",
   "metadata": {},
   "source": [
    "Создайте датафрейм времен года:\n",
    "\n",
    "    w, winter\n",
    "    p, spring\n",
    "    s, summer\n",
    "    a, autumn\n",
    "\n",
    "Назовите колонки\n",
    "\n",
    "* id\n",
    "* season_name"
   ]
  },
  {
   "cell_type": "code",
   "execution_count": null,
   "id": "dc73dd83",
   "metadata": {},
   "outputs": [],
   "source": [
    "seasonDf = ..."
   ]
  },
  {
   "cell_type": "markdown",
   "id": "751f9a20",
   "metadata": {},
   "source": [
    "Добавьте в информацию о месяцах название сезона (join)"
   ]
  },
  {
   "cell_type": "code",
   "execution_count": null,
   "id": "8c5759e7",
   "metadata": {},
   "outputs": [],
   "source": [
    "monthDf..."
   ]
  },
  {
   "cell_type": "markdown",
   "id": "b8dfd29f",
   "metadata": {},
   "source": [
    "Добавьте к `monthDf` строку \n",
    "\n",
    "    1, w, January\n",
    "    "
   ]
  },
  {
   "cell_type": "code",
   "execution_count": null,
   "id": "4465c8d5",
   "metadata": {},
   "outputs": [],
   "source": [
    "newMonthDf = ..."
   ]
  },
  {
   "cell_type": "markdown",
   "id": "3fd21078",
   "metadata": {},
   "source": [
    "Сколько месяцев представлено в датафрейме `newMonthDf` для каждого сезона? "
   ]
  },
  {
   "cell_type": "code",
   "execution_count": null,
   "id": "99bb7313",
   "metadata": {},
   "outputs": [],
   "source": [
    "newMonthDf..."
   ]
  },
  {
   "cell_type": "markdown",
   "id": "38b9087f",
   "metadata": {},
   "source": [
    "Какие сезоны не представлены в датафрейме `newMonthDf`? "
   ]
  },
  {
   "cell_type": "code",
   "execution_count": null,
   "id": "5460573d",
   "metadata": {},
   "outputs": [],
   "source": [
    "newMonthDf..."
   ]
  },
  {
   "cell_type": "markdown",
   "id": "2a785bd3",
   "metadata": {},
   "source": [
    "Выдайте список месяцев датафрейма `newMonthDf` в порядке убывания id сезона"
   ]
  },
  {
   "cell_type": "code",
   "execution_count": null,
   "id": "5d5a90af",
   "metadata": {},
   "outputs": [],
   "source": [
    "newMonthDf..."
   ]
  },
  {
   "cell_type": "markdown",
   "id": "fff5cc6a",
   "metadata": {},
   "source": [
    "**Задача 1**"
   ]
  },
  {
   "cell_type": "markdown",
   "id": "94b8f44f",
   "metadata": {},
   "source": [
    "Problem 3.2\n",
    "\n",
    "Data Description:\n",
    "\n",
    "* All the product records are stored at /data/cca175_data/products\n",
    "* All the category records are stored at /data/cca175_data/categories\n",
    "* Data is in text format, fields are separated by comma\n",
    "\n",
    "Products Schema:\n",
    "\n",
    "    product_id              int                                         \n",
    "    product_category_id     int                                         \n",
    "    product_name            string                                      \n",
    "    product_description     string                                      \n",
    "    product_price           double                                      \n",
    "    product_image           string\n",
    "\n",
    "Categories Schems:\n",
    "\n",
    "    category_id              int\n",
    "    category_group_id        int\n",
    "    category_name            string\n",
    "\n",
    "Output Requirements:\n",
    "\n",
    "* Get maximum product_price in each product_category\n",
    "* Get minimum product_price in each product_category\n",
    "* Get average product_price in each product_category\n",
    "* Output data should contain columns category_name,max_price,min_price,avg_price\n",
    "* Show output on the console"
   ]
  },
  {
   "cell_type": "code",
   "execution_count": null,
   "id": "76e4c39a",
   "metadata": {},
   "outputs": [],
   "source": [
    "productDf = (\n",
    "    spark\n",
    "    .read\n",
    "    .format(\"csv\")\n",
    "    .load(\"/data/cca175_data/products\")\n",
    ")"
   ]
  },
  {
   "cell_type": "code",
   "execution_count": null,
   "id": "723a0bdc",
   "metadata": {},
   "outputs": [],
   "source": [
    "catDf = (\n",
    "    spark\n",
    "    .read\n",
    "    .format(\"csv\")\n",
    "    .load(\"/data/cca175_data/categories\")\n",
    ")"
   ]
  },
  {
   "cell_type": "code",
   "execution_count": null,
   "id": "21948da3",
   "metadata": {},
   "outputs": [],
   "source": []
  },
  {
   "cell_type": "markdown",
   "id": "1db4ee2d",
   "metadata": {},
   "source": [
    "**Задача 2**"
   ]
  },
  {
   "cell_type": "markdown",
   "id": "344744e2",
   "metadata": {},
   "source": [
    "**Problem 3.6**\n",
    "\n",
    "Data Description:\n",
    "\n",
    "* All the Order records are stored at /data/cca175_data/orders\n",
    "* All the Order Items records are stored at /data/cca175_data/order_items\n",
    " \n",
    "Orders Schema:\n",
    "\n",
    "* order_id                int   \n",
    "* order_date              string\n",
    "* order_customer_id       int   \n",
    "* order_status            string\n",
    "\n",
    "Order_items Schema:\n",
    "\n",
    "* order_item_id           int           \n",
    "* order_item_order_id     int           \n",
    "* order_item_product_id   int           \n",
    "* order_item_quantity     tinyint       \n",
    "* order_item_subtotal     double        \n",
    "* order_item_product_price        double\n",
    "\n",
    "Output Requirements:\n",
    "\n",
    "* Get average revenue per day\n",
    "* Get all the orders which are more than average\n",
    "* Round order_revenue and avg_revenue to 2 decimal places\n",
    "* order_date should be in format yyyy-MM-dd\n",
    "* Output should only contain order_date, order_id, order_revenue, avg_revenue\n",
    "\n",
    "Show output on the screen."
   ]
  },
  {
   "cell_type": "code",
   "execution_count": null,
   "id": "5b4ff3fb",
   "metadata": {},
   "outputs": [],
   "source": []
  },
  {
   "cell_type": "markdown",
   "id": "a735bf87",
   "metadata": {},
   "source": [
    "**НЕ ЗАБУДЬТЕ** остановить спарк сессию!"
   ]
  },
  {
   "cell_type": "code",
   "execution_count": null,
   "id": "9b12ca18",
   "metadata": {},
   "outputs": [],
   "source": [
    "spark.stop()"
   ]
  },
  {
   "cell_type": "markdown",
   "id": "64907c09",
   "metadata": {},
   "source": [
    "<a id=\"theend\"></a>\n",
    "<hr style=\"border: 3px solid #460073\"> </hr>\n",
    "\n",
    "<div style=\"text-align: left\"><img src=\"/static/images/logo.png\" style=\"width:3%;\" align=\"left\"></div>\n",
    "<div style=\"text-align: right\"> © Accenture. All rights reserved</div>"
   ]
  }
 ],
 "metadata": {
  "kernelspec": {
   "display_name": "Python 3",
   "language": "python",
   "name": "python3"
  },
  "language_info": {
   "codemirror_mode": {
    "name": "ipython",
    "version": 3
   },
   "file_extension": ".py",
   "mimetype": "text/x-python",
   "name": "python",
   "nbconvert_exporter": "python",
   "pygments_lexer": "ipython3",
   "version": "3.8.5"
  }
 },
 "nbformat": 4,
 "nbformat_minor": 5
}
