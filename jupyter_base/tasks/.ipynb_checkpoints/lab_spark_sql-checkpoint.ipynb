{
 "cells": [
  {
   "cell_type": "markdown",
   "id": "df4eac13",
   "metadata": {},
   "source": [
    "<img src=\"/static/images/hdr.png\" align=\"center\">"
   ]
  },
  {
   "cell_type": "markdown",
   "id": "46617447",
   "metadata": {},
   "source": [
    "# SPARK SQL: Лабораторная работа"
   ]
  },
  {
   "cell_type": "markdown",
   "id": "f6aaaf39",
   "metadata": {},
   "source": [
    "<hr style=\"border:2px solid #460073\"> </hr>\n",
    "\n",
    "<h3 style=\"color: #460073\">Практические материалы</h3>\n",
    "\n",
    "<div style=\"color:#b455aa; text-align: right\"> Версия 1.0 от 10 октября 2021</div>"
   ]
  },
  {
   "cell_type": "code",
   "execution_count": null,
   "id": "3ae4e22f",
   "metadata": {},
   "outputs": [],
   "source": [
    "from pyspark.sql import SparkSession"
   ]
  },
  {
   "cell_type": "code",
   "execution_count": null,
   "id": "fe7dabb8",
   "metadata": {},
   "outputs": [],
   "source": [
    "spark = (\n",
    "    SparkSession\n",
    "    .builder\n",
    "    .master(\"local\")\n",
    "    .appName(\"lab_spark_sql\"<логин>)\n",
    "    .getOrCreate()\n",
    ")"
   ]
  },
  {
   "cell_type": "markdown",
   "id": "e6d29859",
   "metadata": {},
   "source": [
    "## One-liners"
   ]
  },
  {
   "cell_type": "markdown",
   "id": "bb4eea33",
   "metadata": {},
   "source": [
    "Создайте датафрейм (`createDataFrame()`) с данными о летних месяцах:\n",
    "\n",
    "    6, s, June\n",
    "    7, s, July\n",
    "    8, s, August\n",
    "\n",
    "Назовите колонки\n",
    "\n",
    "* month_no\n",
    "* season_id\n",
    "* month_name"
   ]
  },
  {
   "cell_type": "code",
   "execution_count": null,
   "id": "516e2f86",
   "metadata": {},
   "outputs": [],
   "source": [
    "monthDf = ..."
   ]
  },
  {
   "cell_type": "markdown",
   "id": "00a81886",
   "metadata": {},
   "source": [
    "Проверьте схему (`printSchema()`)"
   ]
  },
  {
   "cell_type": "code",
   "execution_count": null,
   "id": "550ef83b",
   "metadata": {},
   "outputs": [],
   "source": []
  },
  {
   "cell_type": "markdown",
   "id": "b03e83e6",
   "metadata": {},
   "source": [
    "Зарегистрируйте его как view months (`createOrReplaceTempView()`)"
   ]
  },
  {
   "cell_type": "code",
   "execution_count": null,
   "id": "5739f45b",
   "metadata": {},
   "outputs": [],
   "source": []
  },
  {
   "cell_type": "markdown",
   "id": "c87a832d",
   "metadata": {},
   "source": [
    "Создайте датафрейм времен года:\n",
    "\n",
    "    w, winter\n",
    "    p, spring\n",
    "    s, summer\n",
    "    a, autumn\n",
    "\n",
    "Назовите колонки\n",
    "\n",
    "* id\n",
    "* season_name"
   ]
  },
  {
   "cell_type": "code",
   "execution_count": null,
   "id": "d7177113",
   "metadata": {},
   "outputs": [],
   "source": [
    "seasonDf = ..."
   ]
  },
  {
   "cell_type": "markdown",
   "id": "b336d759",
   "metadata": {},
   "source": [
    "Зарегистрируйте его как view seasons (`createOrReplaceTempView()`)"
   ]
  },
  {
   "cell_type": "code",
   "execution_count": null,
   "id": "3eb445f1",
   "metadata": {},
   "outputs": [],
   "source": []
  },
  {
   "cell_type": "markdown",
   "id": "dfeea5d4",
   "metadata": {},
   "source": [
    "**Все дальнейшее делайте с помощью метода .sql()**"
   ]
  },
  {
   "cell_type": "markdown",
   "id": "82dc4842",
   "metadata": {},
   "source": [
    "Добавьте в информацию о месяцах название сезона (join)"
   ]
  },
  {
   "cell_type": "code",
   "execution_count": null,
   "id": "5c1d304f",
   "metadata": {},
   "outputs": [],
   "source": []
  },
  {
   "cell_type": "markdown",
   "id": "e4202746",
   "metadata": {},
   "source": [
    "Добавьте к `months` строку \n",
    "\n",
    "    1, w, January\n",
    "    "
   ]
  },
  {
   "cell_type": "code",
   "execution_count": null,
   "id": "242945cb",
   "metadata": {},
   "outputs": [],
   "source": []
  },
  {
   "cell_type": "markdown",
   "id": "95176918",
   "metadata": {},
   "source": [
    "Сколько месяцев представлено в `months` для каждого сезона? "
   ]
  },
  {
   "cell_type": "code",
   "execution_count": null,
   "id": "027bad35",
   "metadata": {},
   "outputs": [],
   "source": []
  },
  {
   "cell_type": "markdown",
   "id": "56399c83",
   "metadata": {},
   "source": [
    "Какие сезоны не представлены в `months`? "
   ]
  },
  {
   "cell_type": "code",
   "execution_count": null,
   "id": "51a11da2",
   "metadata": {},
   "outputs": [],
   "source": []
  },
  {
   "cell_type": "markdown",
   "id": "8fa972be",
   "metadata": {},
   "source": [
    "Выдайте список месяцев в порядке убывания id сезона"
   ]
  },
  {
   "cell_type": "code",
   "execution_count": null,
   "id": "d2e29022",
   "metadata": {},
   "outputs": [],
   "source": []
  },
  {
   "cell_type": "markdown",
   "id": "3f0903ad",
   "metadata": {},
   "source": [
    "**Задача 1**"
   ]
  },
  {
   "cell_type": "markdown",
   "id": "af7de362",
   "metadata": {},
   "source": [
    "Problem 3.2\n",
    "\n",
    "Data Description:\n",
    "\n",
    "* All the product records are stored at /data/cca175_data/products\n",
    "* All the category records are stored at /data/cca175_data/categories\n",
    "* Data is in text format, fields are separated by comma\n",
    "\n",
    "Products Schema:\n",
    "\n",
    "    product_id              int                                         \n",
    "    product_category_id     int                                         \n",
    "    product_name            string                                      \n",
    "    product_description     string                                      \n",
    "    product_price           double                                      \n",
    "    product_image           string\n",
    "\n",
    "Categories Schems:\n",
    "\n",
    "    category_id              int\n",
    "    category_group_id        int\n",
    "    category_name            string\n",
    "\n",
    "Output Requirements:\n",
    "\n",
    "* Get maximum product_price in each product_category\n",
    "* Get minimum product_price in each product_category\n",
    "* Get average product_price in each product_category\n",
    "* Output data should contain columns category_name,max_price,min_price,avg_price\n",
    "* Show output on the console"
   ]
  },
  {
   "cell_type": "code",
   "execution_count": null,
   "id": "c7f4197e",
   "metadata": {},
   "outputs": [],
   "source": [
    "productDf = (\n",
    "    spark\n",
    "    .read\n",
    "    .format(\"csv\")\n",
    "    .option(\"inferSchema\",\"true\")\n",
    "    .load(\"/data/cca175_data/products\")\n",
    ")"
   ]
  },
  {
   "cell_type": "code",
   "execution_count": null,
   "id": "a5feca77",
   "metadata": {},
   "outputs": [],
   "source": [
    "catDf = (\n",
    "    spark\n",
    "    .read\n",
    "    .format(\"csv\")\n",
    "    .option(\"inferSchema\",\"true\")\n",
    "    .load(\"/data/cca175_data/categories\")\n",
    ")"
   ]
  },
  {
   "cell_type": "code",
   "execution_count": null,
   "id": "927db08f",
   "metadata": {},
   "outputs": [],
   "source": []
  },
  {
   "cell_type": "markdown",
   "id": "41758d3f",
   "metadata": {},
   "source": [
    "**Задача 2**"
   ]
  },
  {
   "cell_type": "markdown",
   "id": "0808b433",
   "metadata": {},
   "source": [
    "**Problem 3.6**\n",
    "\n",
    "Data Description:\n",
    "\n",
    "* All the Order records are stored at /data/cca175_data/orders\n",
    "* All the Order Items records are stored at /data/cca175_data/order_items\n",
    " \n",
    "Orders Schema:\n",
    "\n",
    "* order_id                int   \n",
    "* order_date              string\n",
    "* order_customer_id       int   \n",
    "* order_status            string\n",
    "\n",
    "Order_items Schema:\n",
    "\n",
    "* order_item_id           int           \n",
    "* order_item_order_id     int           \n",
    "* order_item_product_id   int           \n",
    "* order_item_quantity     tinyint       \n",
    "* order_item_subtotal     double        \n",
    "* order_item_product_price        double\n",
    "\n",
    "Output Requirements:\n",
    "\n",
    "* Get average revenue per day\n",
    "* Get all the orders which are more than average\n",
    "* Round order_revenue and avg_revenue to 2 decimal places\n",
    "* order_date should be in format yyyy-MM-dd\n",
    "* Output should only contain order_date, order_id, order_revenue, avg_revenue\n",
    "\n",
    "Show output on the screen."
   ]
  },
  {
   "cell_type": "code",
   "execution_count": null,
   "id": "4ec81714",
   "metadata": {},
   "outputs": [],
   "source": []
  },
  {
   "cell_type": "markdown",
   "id": "79f978dc",
   "metadata": {},
   "source": [
    "**НЕ ЗАБУДЬТЕ** остановить спарк сессию!"
   ]
  },
  {
   "cell_type": "code",
   "execution_count": null,
   "id": "f9563142",
   "metadata": {},
   "outputs": [],
   "source": [
    "spark.stop()"
   ]
  },
  {
   "cell_type": "markdown",
   "id": "1d216f44",
   "metadata": {},
   "source": [
    "<a id=\"theend\"></a>\n",
    "<hr style=\"border: 3px solid #460073\"> </hr>\n",
    "\n",
    "<div style=\"text-align: left\"><img src=\"/static/images/logo.png\" style=\"width:3%;\" align=\"left\"></div>\n",
    "<div style=\"text-align: right\"> © Accenture. All rights reserved</div>"
   ]
  }
 ],
 "metadata": {
  "kernelspec": {
   "display_name": "Python 3",
   "language": "python",
   "name": "python3"
  },
  "language_info": {
   "codemirror_mode": {
    "name": "ipython",
    "version": 3
   },
   "file_extension": ".py",
   "mimetype": "text/x-python",
   "name": "python",
   "nbconvert_exporter": "python",
   "pygments_lexer": "ipython3",
   "version": "3.8.3"
  }
 },
 "nbformat": 4,
 "nbformat_minor": 5
}
