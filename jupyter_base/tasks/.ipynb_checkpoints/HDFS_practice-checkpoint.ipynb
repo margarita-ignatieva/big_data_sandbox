{
 "cells": [
  {
   "cell_type": "markdown",
   "id": "7d6fd5aa",
   "metadata": {},
   "source": [
    "# HDFS basic commands practice\n",
    "\n",
    "Suggested resources before practice:\n",
    "    [Hadoop the definitive guide](https://grut-computing.com/HadoopBook.pdf)\n",
    "    Part 1-3\n",
    "\n",
    "<div class='alert alert-warning' role='alert' style='margin: 10px'>\n",
    "<p>all cmd commands should start with !</p>\n",
    "<p>ex: !hdfs dfs -ls</p>\n",
    "</div>\n"
   ]
  },
  {
   "cell_type": "markdown",
   "id": "d3a76425",
   "metadata": {},
   "source": [
    "## Check which Hadoop services are running with jps command\n",
    "\n",
    "\n",
    "<p> Check the following urls:\n",
    "    <ul>\n",
    "  <li>http://<host_name>:9870 - namenode WebUI</li>\n",
    "  <li>http://<host_name>:9864 - datanode WebUI</li>\n",
    "  <li>http://<host_name>:8088 - WebUI</li>\n",
    "</ul>\n",
    "</p>            \n",
    " "
   ]
  },
  {
   "cell_type": "markdown",
   "id": "13b4fcd3",
   "metadata": {},
   "source": [
    "## Try the following HDFS commands \n",
    "[HDFS commands doc](https://hadoop.apache.org/docs/current/hadoop-project-dist/hadoop-hdfs/HDFSCommands.html)"
   ]
  },
  {
   "cell_type": "code",
   "execution_count": null,
   "id": "a7992fee",
   "metadata": {},
   "outputs": [],
   "source": [
    "!hdfs datanode"
   ]
  },
  {
   "cell_type": "markdown",
   "id": "9f6f9bae",
   "metadata": {},
   "source": [
    "## HDFS filesystem basic operations sum up\n",
    "\n",
    "<hr style=\"border:3px solid #ADD8E6\"> </hr>"
   ]
  },
  {
   "cell_type": "markdown",
   "id": "929a7e38",
   "metadata": {},
   "source": [
    "<h2 style='color: #ADD8E6'>Practise basic create/move commands</h2>"
   ]
  },
  {
   "cell_type": "markdown",
   "id": "15532809",
   "metadata": {},
   "source": [
    "<li>Create nested folder /tmp/your_username in hdfs</li>"
   ]
  },
  {
   "cell_type": "code",
   "execution_count": null,
   "id": "3e43ea91",
   "metadata": {},
   "outputs": [],
   "source": []
  },
  {
   "cell_type": "markdown",
   "id": "348539f0",
   "metadata": {},
   "source": [
    "<li>Create txt file in your nested folder</li>"
   ]
  },
  {
   "cell_type": "code",
   "execution_count": null,
   "id": "cbb6edfb",
   "metadata": {},
   "outputs": [],
   "source": []
  },
  {
   "cell_type": "markdown",
   "id": "4b219e59",
   "metadata": {},
   "source": [
    "<li>List everything in your nested directory with permissions info</li>"
   ]
  },
  {
   "cell_type": "code",
   "execution_count": null,
   "id": "bb40e622",
   "metadata": {},
   "outputs": [],
   "source": []
  },
  {
   "cell_type": "markdown",
   "id": "fbce168f",
   "metadata": {},
   "source": [
    "<li>Create backup folder /tmp_bck </li>"
   ]
  },
  {
   "cell_type": "code",
   "execution_count": null,
   "id": "eca9bf24",
   "metadata": {},
   "outputs": [],
   "source": []
  },
  {
   "cell_type": "markdown",
   "id": "24c8db7e",
   "metadata": {},
   "source": [
    "<li>Move txt file from nested folder to bck folder</li>"
   ]
  },
  {
   "cell_type": "code",
   "execution_count": null,
   "id": "a490b7ef",
   "metadata": {},
   "outputs": [],
   "source": []
  },
  {
   "cell_type": "markdown",
   "id": "6b44fbb4",
   "metadata": {},
   "source": [
    "<li>Rename txt file in bck folder 'txt_file_name' to 'txt_file_name_bck' </li>"
   ]
  },
  {
   "cell_type": "code",
   "execution_count": null,
   "id": "b047c36f",
   "metadata": {},
   "outputs": [],
   "source": []
  },
  {
   "cell_type": "markdown",
   "id": "affc3896",
   "metadata": {},
   "source": [
    "<h2 style='color: #ADD8E6'>Practise alter permissions commands</h2>"
   ]
  },
  {
   "cell_type": "markdown",
   "id": "10e482d3",
   "metadata": {},
   "source": [
    "<li>Check user permissions for nested and bck folder</li>"
   ]
  },
  {
   "cell_type": "code",
   "execution_count": null,
   "id": "6995e9b0",
   "metadata": {},
   "outputs": [],
   "source": []
  },
  {
   "cell_type": "markdown",
   "id": "0415d1fe",
   "metadata": {},
   "source": [
    "<li>Change txt file owner in nested folder - to $HDFS_USER</li>"
   ]
  },
  {
   "cell_type": "code",
   "execution_count": null,
   "id": "223078dc",
   "metadata": {},
   "outputs": [],
   "source": []
  },
  {
   "cell_type": "markdown",
   "id": "c6a335c2",
   "metadata": {},
   "source": [
    "<li>Allow only read operations for txt file in your nested folder</li>"
   ]
  },
  {
   "cell_type": "code",
   "execution_count": null,
   "id": "ad1db02b",
   "metadata": {},
   "outputs": [],
   "source": []
  },
  {
   "cell_type": "markdown",
   "id": "903b792f",
   "metadata": {},
   "source": [
    "<h2 style='color: #ADD8E6'>Practise remove operations</h2>"
   ]
  },
  {
   "cell_type": "markdown",
   "id": "54613183",
   "metadata": {},
   "source": [
    "<li>Delete txt file from nested folder</li>"
   ]
  },
  {
   "cell_type": "code",
   "execution_count": null,
   "id": "b4a79541",
   "metadata": {},
   "outputs": [],
   "source": []
  },
  {
   "cell_type": "markdown",
   "id": "e3927545",
   "metadata": {},
   "source": [
    "<li>Delete bck folder and recursively delete nested folder</li>"
   ]
  },
  {
   "cell_type": "code",
   "execution_count": null,
   "id": "3d8ee3ba",
   "metadata": {},
   "outputs": [],
   "source": []
  },
  {
   "cell_type": "markdown",
   "id": "1d35767d",
   "metadata": {},
   "source": [
    "## MapReduce practice\n",
    "\n",
    "<hr style=\"border:3px solid #ADD8E6\"> </hr>\n",
    "\n"
   ]
  },
  {
   "cell_type": "markdown",
   "id": "35ea0a41",
   "metadata": {},
   "source": [
    "\n",
    "<li> Download the followng \n",
    "<a href=\"https://hadoop.apache.org/docs/stable/hadoop-project-dist/hadoop-hdfs/HdfsDesign.html\">html page</a>\n",
    "to your local filesystem (docker - in case hdfs runs in docker) </li> \n"
   ]
  },
  {
   "cell_type": "code",
   "execution_count": null,
   "id": "228e257e",
   "metadata": {},
   "outputs": [],
   "source": []
  },
  {
   "cell_type": "markdown",
   "id": "5bb54fe4",
   "metadata": {},
   "source": [
    "<li>Convert html page to plain txt with the help of cmd tools</li>"
   ]
  },
  {
   "cell_type": "code",
   "execution_count": null,
   "id": "d20d3864",
   "metadata": {},
   "outputs": [],
   "source": []
  },
  {
   "cell_type": "markdown",
   "id": "410f7128",
   "metadata": {},
   "source": [
    "<li> Clean your data similar to <a href='https://towardsdatascience.com/how-to-clean-text-files-at-the-command-line-ce2ff361a16c'>example</a></li>"
   ]
  },
  {
   "cell_type": "code",
   "execution_count": null,
   "id": "9d48bb6f",
   "metadata": {},
   "outputs": [],
   "source": []
  },
  {
   "cell_type": "markdown",
   "id": "9452b219",
   "metadata": {},
   "source": [
    "<li>Create your working folder in hdfs</li>"
   ]
  },
  {
   "cell_type": "code",
   "execution_count": null,
   "id": "9a2de640",
   "metadata": {},
   "outputs": [],
   "source": []
  },
  {
   "cell_type": "markdown",
   "id": "463dba65",
   "metadata": {},
   "source": [
    "<li>Copy your txt file from local system to hdfs</li>"
   ]
  },
  {
   "cell_type": "code",
   "execution_count": null,
   "id": "c5597a92",
   "metadata": {},
   "outputs": [],
   "source": []
  },
  {
   "cell_type": "markdown",
   "id": "93792429",
   "metadata": {},
   "source": [
    "<li>Implement wordcount program with the help of command line commands</li>\n",
    "\n",
    "<p>expected output file shold look similar to this:</p>\n",
    "    \n",
    "<p>word1 56</p> \n",
    "<p>word2 34</p>\n",
    "<p>word3 12</p>\n",
    "...\n"
   ]
  },
  {
   "cell_type": "code",
   "execution_count": null,
   "id": "556c5643",
   "metadata": {},
   "outputs": [],
   "source": []
  },
  {
   "cell_type": "markdown",
   "id": "a9898d6c",
   "metadata": {},
   "source": [
    "<li>Implement wordcount programm with the help of java</li>"
   ]
  },
  {
   "cell_type": "code",
   "execution_count": null,
   "id": "59a36743",
   "metadata": {},
   "outputs": [],
   "source": []
  },
  {
   "cell_type": "markdown",
   "id": "3502807f",
   "metadata": {},
   "source": [
    "<li>Implement wordcount programm with the help of python</li>"
   ]
  },
  {
   "cell_type": "code",
   "execution_count": null,
   "id": "5b58e3b8",
   "metadata": {},
   "outputs": [],
   "source": []
  },
  {
   "cell_type": "markdown",
   "id": "8386040f",
   "metadata": {},
   "source": [
    "## Follow the <a href='https://www.edureka.co/blog/interview-questions/hadoop-interview-questions-hdfs-2/'>link</a> to check your knowledge on Hadooop / HDFS infrastructure"
   ]
  }
 ],
 "metadata": {
  "kernelspec": {
   "display_name": "Python 3",
   "language": "python",
   "name": "python3"
  },
  "language_info": {
   "codemirror_mode": {
    "name": "ipython",
    "version": 3
   },
   "file_extension": ".py",
   "mimetype": "text/x-python",
   "name": "python",
   "nbconvert_exporter": "python",
   "pygments_lexer": "ipython3",
   "version": "3.6.9"
  }
 },
 "nbformat": 4,
 "nbformat_minor": 5
}
