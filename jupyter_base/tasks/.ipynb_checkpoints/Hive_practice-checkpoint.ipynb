{
 "cells": [
  {
   "cell_type": "markdown",
   "id": "4673aed2",
   "metadata": {},
   "source": [
    "# Hive practice\n",
    "\n",
    "Before practice please go through following \n",
    "\n",
    "[docks on hive](https://hive.apache.org/) \n",
    "\n",
    "[hive tutorials](https://sparkbyexamples.com/apache-hive-tutorial/)\n",
    "\n"
   ]
  },
  {
   "cell_type": "code",
   "execution_count": 1,
   "id": "372e93a7",
   "metadata": {},
   "outputs": [],
   "source": [
    "#run the following code for hive fuction initialization\n",
    "\n",
    "import subprocess \n",
    "\n",
    "def createFile(data):\n",
    "    file = open(\"hive_script.hql\",'w+')\n",
    "    file.write(data)\n",
    "    file.close()\n",
    "    return file\n",
    "\n",
    "def _hql(str):\n",
    "    createFile(str)\n",
    "    resulty = subprocess.run(['hive', '-f', \"hive_script.hql\"],stdout=subprocess.PIPE, stderr=subprocess.PIPE)\n",
    "    print(resulty.stderr.decode())\n",
    "    print(resulty.stdout.decode())\n",
    "    \n",
    "#run hive queries like _hql(\"show tables\")    "
   ]
  },
  {
   "cell_type": "markdown",
   "id": "ba8b297a",
   "metadata": {},
   "source": [
    "##  Database operations\n",
    "\n",
    "<hr style=\"border:3px solid #ADD8E6\"> </hr>\n"
   ]
  },
  {
   "cell_type": "markdown",
   "id": "c21a13ca",
   "metadata": {},
   "source": [
    "List existing databases"
   ]
  },
  {
   "cell_type": "code",
   "execution_count": 2,
   "id": "c87fdf3e",
   "metadata": {},
   "outputs": [
    {
     "name": "stdout",
     "output_type": "stream",
     "text": [
      "SLF4J: Class path contains multiple SLF4J bindings.\n",
      "SLF4J: Found binding in [jar:file:/usr/local/hive/lib/log4j-slf4j-impl-2.10.0.jar!/org/slf4j/impl/StaticLoggerBinder.class]\n",
      "SLF4J: Found binding in [jar:file:/usr/local/hadoop/share/hadoop/common/lib/slf4j-log4j12-1.7.30.jar!/org/slf4j/impl/StaticLoggerBinder.class]\n",
      "SLF4J: See http://www.slf4j.org/codes.html#multiple_bindings for an explanation.\n",
      "SLF4J: Actual binding is of type [org.apache.logging.slf4j.Log4jLoggerFactory]\n",
      "Hive Session ID = 259a4b72-3c4b-4c08-aaa8-c9b8606c948d\n",
      "\n",
      "Logging initialized using configuration in jar:file:/usr/local/hive/lib/hive-common-3.1.2.jar!/hive-log4j2.properties Async: true\n",
      "Hive Session ID = 14756376-d8d6-48ad-804d-c6d22076ee40\n",
      "OK\n",
      "Time taken: 1.073 seconds, Fetched: 1 row(s)\n",
      "\n",
      "default\n",
      "\n"
     ]
    }
   ],
   "source": [
    "_hql(\"show databases\")"
   ]
  },
  {
   "cell_type": "markdown",
   "id": "94b98ef8",
   "metadata": {},
   "source": [
    "Create database you'll be working in with hdfs location specified"
   ]
  },
  {
   "cell_type": "code",
   "execution_count": null,
   "id": "ef3ec005",
   "metadata": {},
   "outputs": [],
   "source": []
  },
  {
   "cell_type": "markdown",
   "id": "fef2119d",
   "metadata": {},
   "source": [
    "Describe database you've just created, describe extended option as well\n",
    "\n",
    "**Can you see any differences?**"
   ]
  },
  {
   "cell_type": "code",
   "execution_count": null,
   "id": "4397687b",
   "metadata": {},
   "outputs": [],
   "source": []
  },
  {
   "cell_type": "markdown",
   "id": "92e0c924",
   "metadata": {},
   "source": [
    "Alter database with 'creator' property and your name as a value\n",
    "\n",
    "Run describe with different options once again"
   ]
  },
  {
   "cell_type": "code",
   "execution_count": null,
   "id": "c4af2429",
   "metadata": {},
   "outputs": [],
   "source": []
  },
  {
   "cell_type": "markdown",
   "id": "dd1d8a12",
   "metadata": {},
   "source": [
    "## Table operations\n",
    "\n",
    "<hr style=\"border:3px solid #ADD8E6\"> </hr>"
   ]
  },
  {
   "cell_type": "markdown",
   "id": "fb976557",
   "metadata": {},
   "source": [
    "With the help of standard bash commands explore csv file /usr/local/hive/data/starbucks-menu-nutrition-drinks.csv\n",
    "\n",
    " <ul>\n",
    "  <li>print content of the file</li>\n",
    "  <li>copy file to hdfs</li>\n",
    "</ul> \n",
    "\n",
    "**Which delimiter is used?** "
   ]
  },
  {
   "cell_type": "code",
   "execution_count": null,
   "id": "eec0a562",
   "metadata": {},
   "outputs": [],
   "source": []
  },
  {
   "cell_type": "markdown",
   "id": "26a213b5",
   "metadata": {},
   "source": [
    "Create hive table with schema according to starbucks-menu-nutrition-drinks.csv named drinks"
   ]
  },
  {
   "cell_type": "code",
   "execution_count": null,
   "id": "05085c3d",
   "metadata": {},
   "outputs": [],
   "source": []
  },
  {
   "cell_type": "markdown",
   "id": "98a35a45",
   "metadata": {},
   "source": [
    "Load data to hive table created with inpath operation\n",
    "\n",
    "<div class='alert alert-warning' role='alert' style='margin: 10px'>\n",
    "<p>Inpath operation will move NOT copy the file !</p>\n",
    "<p>Create a bck for original csv</p>\n",
    "</div>\n",
    "\n",
    "\n",
    "With the help of select check table content.\n",
    "\n",
    "**Are there any artifacts?** --> think why it happened and can be edited"
   ]
  },
  {
   "cell_type": "code",
   "execution_count": null,
   "id": "8cac722a",
   "metadata": {},
   "outputs": [],
   "source": []
  },
  {
   "cell_type": "markdown",
   "id": "2f9e9c9f",
   "metadata": {},
   "source": [
    "Truncate table\n",
    "\n",
    "**What's the difference between truncate, delete and drop?**"
   ]
  },
  {
   "cell_type": "code",
   "execution_count": null,
   "id": "eec376c1",
   "metadata": {},
   "outputs": [],
   "source": []
  },
  {
   "cell_type": "markdown",
   "id": "5df4d317",
   "metadata": {},
   "source": [
    "Alter table with serde properties set SERDE 'org.apache.hadoop.hive.serde2.lazy.LazySimpleSerDe' WITH SERDEPROPERTIES (...) specifying delimiter and line ending\n",
    "\n",
    "Reload data with inpath command\n",
    "\n",
    "**Are there any artifacts left?**"
   ]
  },
  {
   "cell_type": "code",
   "execution_count": null,
   "id": "cca36d23",
   "metadata": {},
   "outputs": [],
   "source": []
  },
  {
   "cell_type": "markdown",
   "id": "67aa6755",
   "metadata": {},
   "source": [
    "Select first line, check wether it's correct\n",
    "\n",
    "Alter table with TBLPROPERTIES aimimg to skip header as the first line"
   ]
  },
  {
   "cell_type": "code",
   "execution_count": null,
   "id": "05ce6c43",
   "metadata": {},
   "outputs": [],
   "source": []
  },
  {
   "cell_type": "markdown",
   "id": "c45b9d7e",
   "metadata": {},
   "source": [
    "Create foods table\n",
    "\n",
    " <ul>\n",
    "  <li>create external table for foods from  /usr/local/hive/data/starbucks-menu-nutrition-food.csv</li>\n",
    "  <li>copy  starbucks-menu-nutrition-food.csv to location specified in  CREATE ... statement</li>\n",
    "  <li>eliminate artifacts the same way</li>\n",
    "</ul> \n",
    "\n",
    "**What's the difference between external and managed table?**\n",
    "**What are the criteria to chose aone over another?**\n"
   ]
  },
  {
   "cell_type": "code",
   "execution_count": null,
   "id": "77cee747",
   "metadata": {},
   "outputs": [],
   "source": []
  },
  {
   "cell_type": "markdown",
   "id": "bbff1efa",
   "metadata": {},
   "source": [
    "Copy tables to your database with AS SELECT option \n",
    "\n",
    "Check data wasn't lost"
   ]
  },
  {
   "cell_type": "code",
   "execution_count": null,
   "id": "6e034e42",
   "metadata": {},
   "outputs": [],
   "source": []
  },
  {
   "cell_type": "markdown",
   "id": "6a2f3a07",
   "metadata": {},
   "source": [
    "## Data manipulation\n",
    "\n",
    "<hr style=\"border:3px solid #ADD8E6\"> </hr>"
   ]
  },
  {
   "cell_type": "markdown",
   "id": "1a906ed4",
   "metadata": {},
   "source": [
    "Add column 'type' with fixed value 'drink' for drinks table\n",
    "\n",
    "<div class=\"alert alert-success\">\n",
    "  <strong>hint:</strong>Alter schema and use INSERT OVERWRITE command\n",
    "</div>\n",
    "\n",
    "**Is there a straightforward way to add filled columns to Hive?**"
   ]
  },
  {
   "cell_type": "code",
   "execution_count": null,
   "id": "61434e37",
   "metadata": {},
   "outputs": [],
   "source": []
  },
  {
   "cell_type": "markdown",
   "id": "524ad23c",
   "metadata": {},
   "source": [
    "Create temporary table 'food_type' as following:\n",
    "\n",
    "<table>\n",
    "  <tr>\n",
    "    <td>type</td>\n",
    "  </tr>\n",
    "      <tr>\n",
    "    <td>food</td>\n",
    "  </tr>\n",
    "</table> \n",
    "\n",
    "Add column type to foods table using JOIN command\n",
    "\n",
    "\n",
    "<div class='alert alert-warning' role='alert' style='margin: 10px'>\n",
    "<p>You can reference temporary table only within same _hql(...) expression!</p>\n",
    "<p>EXAMPLE:</p>\n",
    "    <p>_hql(\"create  ....;\\</p>\n",
    "    <p>select ..;\\</p>\n",
    "    <p>select..\")</p>\n",
    "</div>\n",
    "\n",
    "\n",
    "**Difference between temporary and ragular tables?**\n",
    "**Why using temp table in another _hql() script won't work?**\n"
   ]
  },
  {
   "cell_type": "code",
   "execution_count": null,
   "id": "3c1e6ed0",
   "metadata": {},
   "outputs": [],
   "source": []
  },
  {
   "cell_type": "markdown",
   "id": "ae3e54e1",
   "metadata": {},
   "source": [
    "Union drinks and foods table to 'drinks_and_snacks'\n",
    "\n",
    "<div class=\"alert alert-info\">\n",
    "  <strong>task:</strong> use WITH command in union statement\n",
    "</div>\n",
    "\n",
    "\n",
    "<div class='alert alert-warning' role='alert' style='margin: 10px'>\n",
    "<p>Don't drop original tables!</p>\n",
    "</div>\n",
    "\n",
    "**What's the difference between UNION and UNION ALL?**"
   ]
  },
  {
   "cell_type": "code",
   "execution_count": null,
   "id": "8eb946b4",
   "metadata": {},
   "outputs": [],
   "source": []
  },
  {
   "cell_type": "markdown",
   "id": "19e5998e",
   "metadata": {},
   "source": [
    "Add id column to 'drinks_and_snacks' with value of line number \n",
    "\n",
    "<div class=\"alert alert-success\">\n",
    "  <strong>hint:</strong>use row_number() function\n",
    "</div>\n",
    "\n",
    "**What are window functions?**"
   ]
  },
  {
   "cell_type": "code",
   "execution_count": null,
   "id": "362af003",
   "metadata": {},
   "outputs": [],
   "source": []
  },
  {
   "cell_type": "markdown",
   "id": "8aa45171",
   "metadata": {},
   "source": [
    "Create table 'beverage_companies' with possible companies gathered from drinks table, with following structure\n",
    "\n",
    "<table>\n",
    "  <tr>\n",
    "    <td>company</td>\n",
    "    <td>items</td>\n",
    "    <td>avg_calories</td>\n",
    "  </tr>\n",
    "     <tr>\n",
    "    <td>...</td>\n",
    "    <td>...</td>\n",
    "    <td>...</td>\n",
    "  </tr>\n",
    "</table> \n",
    "\n",
    "<div class=\"alert alert-success\">\n",
    "  <strong>hint:</strong>use substing functions to get only company name\n",
    "</div>\n",
    "\n",
    "\n",
    "**Name string functions?**\n",
    "**What's the difference between aggregate and window functions?**\n",
    "**Are NULLS treated correctly in aggregate functions?**"
   ]
  },
  {
   "cell_type": "code",
   "execution_count": null,
   "id": "9daca930",
   "metadata": {},
   "outputs": [],
   "source": []
  },
  {
   "cell_type": "markdown",
   "id": "96aed1a9",
   "metadata": {},
   "source": [
    "Add estimation column with values - 'higher', 'lower', 'avg' to 'drinks' table\n",
    "\n",
    "This column will be filled only for itemes that have company from  'beverage_companies' in name\n",
    "\n",
    "If the calories amount of an item is lower then 'avg_calories' add 'lower', if higher then 'higher ...\n",
    "\n",
    " \n",
    "<div class=\"alert alert-success\">\n",
    "  <strong>hint:</strong>use JOIN nad CASE statement\n",
    "</div>\n",
    "\n",
    "\n",
    "**What are different types of JOIN?**\n"
   ]
  },
  {
   "cell_type": "code",
   "execution_count": null,
   "id": "68dbbf96",
   "metadata": {},
   "outputs": [],
   "source": []
  },
  {
   "cell_type": "markdown",
   "id": "0be7de23",
   "metadata": {},
   "source": [
    "Alter table 'drinks_and_snacks' - add partition on 'type' field\n",
    "\n",
    "**What's the difference between bucketing and partitioning in hive?**\n",
    "**What physically represents partition?**"
   ]
  },
  {
   "cell_type": "code",
   "execution_count": null,
   "id": "3fb7de20",
   "metadata": {},
   "outputs": [],
   "source": []
  },
  {
   "cell_type": "markdown",
   "id": "00f2aab2",
   "metadata": {},
   "source": [
    "Create 'ref_drinks' table with the following content:\n",
    "\n",
    "\n",
    "<table>\n",
    "  <tr>\n",
    "    <td>value</td>\n",
    "    <td>calories</td>\n",
    "    <td>fat</td>\n",
    "    <td>carb</td>\n",
    "    <td>fiber</td>\n",
    "    <td>protein</td>\n",
    "    <td>sodium</td>\n",
    "  </tr>\n",
    "   <tr>\n",
    "    <td>max</td>\n",
    "    <td>...</td>\n",
    "    <td>...</td>\n",
    "    <td>...</td>\n",
    "    <td>...</td>\n",
    "    <td>...</td>\n",
    "    <td>...</td>\n",
    "  </tr>\n",
    "       <tr>\n",
    "    <td>min</td>\n",
    "    <td>...</td>\n",
    "    <td>...</td>\n",
    "    <td>...</td>\n",
    "    <td>...</td>\n",
    "    <td>...</td>\n",
    "    <td>...</td>\n",
    "  </tr>\n",
    "       <tr>\n",
    "    <td>avg</td>\n",
    "    <td>...</td>\n",
    "    <td>...</td>\n",
    "    <td>...</td>\n",
    "    <td>...</td>\n",
    "    <td>...</td>\n",
    "    <td>...</td> \n",
    "  </tr>\n",
    "</table> \n",
    "\n",
    "<div class=\"alert alert-success\">\n",
    "  <strong>hint:</strong>extensively use subqueries and with command. You can use multiple temp tables if it's more convenient\n",
    "</div>\n",
    "\n",
    "\n",
    "**What Hive statements allow subquery use?**"
   ]
  },
  {
   "cell_type": "code",
   "execution_count": null,
   "id": "65129b1b",
   "metadata": {},
   "outputs": [],
   "source": []
  },
  {
   "cell_type": "code",
   "execution_count": null,
   "id": "5ff3c912",
   "metadata": {},
   "outputs": [],
   "source": []
  },
  {
   "cell_type": "markdown",
   "id": "b16b1caf",
   "metadata": {},
   "source": [
    "## **quizzes on hive** \n",
    "\n",
    "[check yourself_p.1](https://data-flair.training/blogs/apache-hive-online-practice-test/)\n",
    "\n",
    "[check yourself_p.2](https://www.tutorialspoint.com/hive/hive_questions_answers.htm)"
   ]
  }
 ],
 "metadata": {
  "kernelspec": {
   "display_name": "SSH hive hive",
   "language": "",
   "name": "rik_ssh_hive_hive"
  },
  "language_info": {
   "codemirror_mode": {
    "name": "ipython",
    "version": 3
   },
   "file_extension": ".py",
   "mimetype": "text/x-python",
   "name": "python",
   "nbconvert_exporter": "python",
   "pygments_lexer": "ipython3",
   "version": "3.6.9"
  }
 },
 "nbformat": 4,
 "nbformat_minor": 5
}
